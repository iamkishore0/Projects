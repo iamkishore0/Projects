{
  "nbformat": 4,
  "nbformat_minor": 0,
  "metadata": {
    "colab": {
      "provenance": [],
      "authorship_tag": "ABX9TyPKg5QjvHI90oOCF6fFCCUc",
      "include_colab_link": true
    },
    "kernelspec": {
      "name": "python3",
      "display_name": "Python 3"
    },
    "language_info": {
      "name": "python"
    }
  },
  "cells": [
    {
      "cell_type": "markdown",
      "metadata": {
        "id": "view-in-github",
        "colab_type": "text"
      },
      "source": [
        "<a href=\"https://colab.research.google.com/github/iamkishore0/Projects/blob/main/Typing_speed_detector.ipynb\" target=\"_parent\"><img src=\"https://colab.research.google.com/assets/colab-badge.svg\" alt=\"Open In Colab\"/></a>"
      ]
    },
    {
      "cell_type": "markdown",
      "source": [
        "Typing speed detector"
      ],
      "metadata": {
        "id": "8-I-AEuIdyUm"
      }
    },
    {
      "cell_type": "code",
      "source": [
        "import time\n",
        "\n",
        "def type_speed_detector():\n",
        "    expected_text = \"The quick brown fox jumps over the lazy dog.\"  # Change this to the desired text\n",
        "    \n",
        "    print(\"Type the following text:\")\n",
        "    print(expected_text)\n",
        "    print(\"Press enter when you are ready to start typing.\")\n",
        "    input()\n",
        "    \n",
        "    print(\"Start typing...\")\n",
        "    start_time = time.time()\n",
        "    typed_text = input()\n",
        "    end_time = time.time()\n",
        "    \n",
        "    elapsed_time = end_time - start_time\n",
        "    num_chars = len(typed_text)\n",
        "    speed = num_chars / elapsed_time\n",
        "    \n",
        "    print(\"Time taken: {:.2f} seconds\".format(elapsed_time))\n",
        "    print(\"Number of characters typed:\", num_chars)\n",
        "    print(\"Typing speed: {:.2f} characters per second\".format(speed))\n",
        "    \n",
        "    # Compare typed text with expected text\n",
        "    if typed_text == expected_text:\n",
        "        print(\"Congratulations! You typed the correct text.\")\n",
        "    else:\n",
        "        print(\"Oops! The typed text does not match the expected text.\")\n",
        "\n",
        "type_speed_detector()\n"
      ],
      "metadata": {
        "id": "CNOFUb5pd1Jv"
      },
      "execution_count": null,
      "outputs": []
    }
  ]
}